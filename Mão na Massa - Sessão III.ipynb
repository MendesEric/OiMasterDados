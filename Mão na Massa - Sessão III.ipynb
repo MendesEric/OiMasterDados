{
 "cells": [
  {
   "cell_type": "code",
   "execution_count": 3,
   "id": "9d742e0c",
   "metadata": {},
   "outputs": [
    {
     "name": "stdout",
     "output_type": "stream",
     "text": [
      "220\n"
     ]
    }
   ],
   "source": [
    "# Valor += OutroValor\n",
    "\n",
    "valor = 100\n",
    "valor += 120\n",
    "print(valor)\n"
   ]
  },
  {
   "cell_type": "code",
   "execution_count": 5,
   "id": "66d823af",
   "metadata": {},
   "outputs": [
    {
     "name": "stdout",
     "output_type": "stream",
     "text": [
      "4.166666666666667\n"
     ]
    }
   ],
   "source": [
    "# Valor /= OutroValor\n",
    "\n",
    "valor = 50\n",
    "valor /= 12\n",
    "print(valor)"
   ]
  },
  {
   "cell_type": "code",
   "execution_count": 6,
   "id": "140eb957",
   "metadata": {},
   "outputs": [
    {
     "name": "stdout",
     "output_type": "stream",
     "text": [
      "3000\n"
     ]
    }
   ],
   "source": [
    "# Valor *= OutroValor\n",
    "\n",
    "valor = 100\n",
    "valor *= 30\n",
    "print(valor)"
   ]
  },
  {
   "cell_type": "code",
   "execution_count": 12,
   "id": "ada52041",
   "metadata": {},
   "outputs": [
    {
     "name": "stdout",
     "output_type": "stream",
     "text": [
      "True\n"
     ]
    }
   ],
   "source": [
    "# Comparação utilizando > e < e o operador and\n",
    "\n",
    "valor1 = 50\n",
    "valor2 = 150\n",
    "\n",
    "print(valor1 <= 50 and valor2 > 30)\n"
   ]
  },
  {
   "cell_type": "code",
   "execution_count": 15,
   "id": "1854713f",
   "metadata": {},
   "outputs": [
    {
     "name": "stdout",
     "output_type": "stream",
     "text": [
      "False\n"
     ]
    }
   ],
   "source": [
    "# Comparando e utilizando o operador or \n",
    "valor1 = -20\n",
    "valor2 = 1\n",
    "print(valor1 > 0 or valor1 ==0)\n"
   ]
  },
  {
   "cell_type": "code",
   "execution_count": 16,
   "id": "eaf492fd",
   "metadata": {},
   "outputs": [
    {
     "name": "stdout",
     "output_type": "stream",
     "text": [
      "True\n",
      "True\n"
     ]
    }
   ],
   "source": [
    "valor1 = 50\n",
    "valor2 = 0\n",
    "print(valor1-valor2 > 1)\n",
    "print(valor1+valor2 > 0)"
   ]
  },
  {
   "cell_type": "code",
   "execution_count": 18,
   "id": "98896db7",
   "metadata": {},
   "outputs": [
    {
     "name": "stdout",
     "output_type": "stream",
     "text": [
      "Verdade!\n"
     ]
    }
   ],
   "source": [
    "# Utilizando condicional if\n",
    "\n",
    "valor1, valor2 = 100,-100\n",
    "if (valor1+valor2 > 0):\n",
    "    print('Verdade!')\n",
    "    \n",
    "if (not(valor2 > 0)):\n",
    "    print('Verdade!')"
   ]
  },
  {
   "cell_type": "code",
   "execution_count": 20,
   "id": "e688a175",
   "metadata": {},
   "outputs": [
    {
     "data": {
      "text/plain": [
       "False"
      ]
     },
     "execution_count": 20,
     "metadata": {},
     "output_type": "execute_result"
    }
   ],
   "source": [
    "# Comparando True e False\n",
    "\n",
    "True and False"
   ]
  },
  {
   "cell_type": "code",
   "execution_count": 23,
   "id": "a4728790",
   "metadata": {},
   "outputs": [
    {
     "data": {
      "text/plain": [
       "True"
      ]
     },
     "execution_count": 23,
     "metadata": {},
     "output_type": "execute_result"
    }
   ],
   "source": [
    "True or False"
   ]
  },
  {
   "cell_type": "code",
   "execution_count": 25,
   "id": "4d6ba4e1",
   "metadata": {},
   "outputs": [
    {
     "data": {
      "text/plain": [
       "True"
      ]
     },
     "execution_count": 25,
     "metadata": {},
     "output_type": "execute_result"
    }
   ],
   "source": [
    "True or not(False)"
   ]
  },
  {
   "cell_type": "code",
   "execution_count": 26,
   "id": "75ded8ee",
   "metadata": {},
   "outputs": [
    {
     "data": {
      "text/plain": [
       "False"
      ]
     },
     "execution_count": 26,
     "metadata": {},
     "output_type": "execute_result"
    }
   ],
   "source": [
    "False or False"
   ]
  },
  {
   "cell_type": "code",
   "execution_count": 27,
   "id": "17abc2c9",
   "metadata": {},
   "outputs": [
    {
     "data": {
      "text/plain": [
       "True"
      ]
     },
     "execution_count": 27,
     "metadata": {},
     "output_type": "execute_result"
    }
   ],
   "source": [
    "True or True "
   ]
  },
  {
   "cell_type": "code",
   "execution_count": 28,
   "id": "bf276490",
   "metadata": {},
   "outputs": [
    {
     "data": {
      "text/plain": [
       "False"
      ]
     },
     "execution_count": 28,
     "metadata": {},
     "output_type": "execute_result"
    }
   ],
   "source": [
    "False and True"
   ]
  }
 ],
 "metadata": {
  "kernelspec": {
   "display_name": "Python 3 (ipykernel)",
   "language": "python",
   "name": "python3"
  },
  "language_info": {
   "codemirror_mode": {
    "name": "ipython",
    "version": 3
   },
   "file_extension": ".py",
   "mimetype": "text/x-python",
   "name": "python",
   "nbconvert_exporter": "python",
   "pygments_lexer": "ipython3",
   "version": "3.8.8"
  }
 },
 "nbformat": 4,
 "nbformat_minor": 5
}
