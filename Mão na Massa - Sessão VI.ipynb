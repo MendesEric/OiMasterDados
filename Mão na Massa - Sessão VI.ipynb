{
 "cells": [
  {
   "cell_type": "code",
   "execution_count": 2,
   "id": "0ec2464a",
   "metadata": {},
   "outputs": [
    {
     "name": "stdout",
     "output_type": "stream",
     "text": [
      "O número 2 é par\n",
      "O número 4 é par\n",
      "O número 6 é par\n",
      "O número 8 é par\n",
      "O número 10 é par\n",
      "O número 12 é par\n",
      "O número 14 é par\n",
      "O número 16 é par\n",
      "O número 18 é par\n",
      "O número 20 é par\n"
     ]
    }
   ],
   "source": [
    "# mostrar os números pares de 1 até 20\n",
    "\n",
    "for i in range(1,21):\n",
    "    if i%2 == 0:\n",
    "        print('O número', i, 'é par')"
   ]
  },
  {
   "cell_type": "code",
   "execution_count": 4,
   "id": "c28c08bb",
   "metadata": {},
   "outputs": [
    {
     "name": "stdout",
     "output_type": "stream",
     "text": [
      "0\n",
      "1\n",
      "2\n",
      "3\n",
      "4\n",
      "5\n",
      "6\n",
      "8\n",
      "9\n",
      "10\n"
     ]
    }
   ],
   "source": [
    "# gerar números entre 1 e 10, exceto o número 7\n",
    "\n",
    "for i in range(11):\n",
    "    if i == 7:\n",
    "        continue\n",
    "    print(i)    "
   ]
  },
  {
   "cell_type": "code",
   "execution_count": 5,
   "id": "6f3011be",
   "metadata": {},
   "outputs": [
    {
     "name": "stdout",
     "output_type": "stream",
     "text": [
      "Norte\n",
      "Nordeste\n",
      "Sul\n",
      "Sudeste\n"
     ]
    }
   ],
   "source": [
    "# mostrar as regiões sem incluir o Centro-Oeste\n",
    "\n",
    "regioes = [\"Norte\", \"Nordeste\", \"Sul\", \"Centro-Oeste\", \"Sudeste\"]\n",
    "for r in regioes:\n",
    "    if r == 'Centro-Oeste':\n",
    "        continue\n",
    "    print(r)    "
   ]
  }
 ],
 "metadata": {
  "kernelspec": {
   "display_name": "Python 3 (ipykernel)",
   "language": "python",
   "name": "python3"
  },
  "language_info": {
   "codemirror_mode": {
    "name": "ipython",
    "version": 3
   },
   "file_extension": ".py",
   "mimetype": "text/x-python",
   "name": "python",
   "nbconvert_exporter": "python",
   "pygments_lexer": "ipython3",
   "version": "3.8.8"
  }
 },
 "nbformat": 4,
 "nbformat_minor": 5
}
