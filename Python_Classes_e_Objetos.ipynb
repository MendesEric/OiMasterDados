{
  "nbformat": 4,
  "nbformat_minor": 0,
  "metadata": {
    "colab": {
      "name": "Python Classes e Objetos",
      "provenance": [],
      "collapsed_sections": []
    },
    "kernelspec": {
      "name": "python3",
      "display_name": "Python 3"
    },
    "language_info": {
      "name": "python"
    }
  },
  "cells": [
    {
      "cell_type": "markdown",
      "source": [
        "\n",
        "\n",
        "\n",
        "# Classes e Objetos\n",
        "\n",
        "\n"
      ],
      "metadata": {
        "id": "IScdRHpYSDB6"
      }
    },
    {
      "cell_type": "markdown",
      "source": [
        "<h1>Por que utilizar Classes?</h1>\n",
        "\n",
        "A classe é uma \"planta\" definida pelo usuário através da qual os objetos são criados.\n",
        "Ela nos dá uma maneira de agrupar dados e funcionalidades.\n",
        "Criar uma classes gera um novo tipo de objeto, permitindo a criação de novas instâncias.\n",
        "Cada instância da classe pode ter atributos atrelados a ela para mantês seus estados.\n",
        "\n",
        "As instâncias das classes também podem ter métodos, que são utilizados para modificar seu estado.\n",
        "\n",
        "Para entender uma aplicação das classes, consideremos o seguinte exemplo: \n",
        "Vamos supor que queremos acompanhar o número de cachorros que podem ter atributos diferentes como raça e idade.\n",
        "\n",
        "Se decidirmos utilizar uma lista, por exemplo, poderíamos ter o primeiro elemento a raça do cachorro e o segundo representando a idade.\n",
        "Supondo que são 100 cachorros diferentes, como saberemos quais elementos da lista representam cada um dos cachorros?\n",
        "E ainda, e se quisermos adicionarmos outras propriedades desses cachorros, como por exemplo peso e altura?\n",
        "\n",
        "Essa ausência de organização é exatamente a aplicabilidade das classes.\n",
        "\n",
        "A classe cria uma estrutura de dados definida pelo usuário, que contém seus próprios membros de dados e funções de membro, que podem ser acessados ​​e usados ​​criando uma instância dessa classe. Uma classe é como um projeto para um objeto.\n",
        "\n",
        "Algumas características das classes em Python:  \n",
        "\n",
        "- Classes são criadas pela keyword <strong>class</strong>.\n",
        "- Atributos são as variáveis que pertencem a classe.\n",
        "- Atributos são sempre públicos e podems ser acessador através do operador <strong>(.)</strong> . Ex.: MinhaClass.Meu.atributo\n",
        "\n",
        "Vamos aos exemplos:"
      ],
      "metadata": {
        "id": "syoKSoS0WLPm"
      }
    },
    {
      "cell_type": "code",
      "source": [
        "# Sintaxe de definição da classe\n",
        "class ClassName:\n",
        "    pass"
      ],
      "metadata": {
        "id": "i3uf8CZKZ69a"
      },
      "execution_count": null,
      "outputs": []
    },
    {
      "cell_type": "code",
      "source": [
        "# Definindo a classe 'Dog'\n",
        "\n",
        "class Dog:\n",
        "  pass"
      ],
      "metadata": {
        "id": "h2LHiBwNacxP"
      },
      "execution_count": null,
      "outputs": []
    },
    {
      "cell_type": "markdown",
      "source": [
        "<h1>Objetos da classe</h1>\n",
        "\n",
        "Um objeto é uma instância de uma classe. Uma classe é como um blueprint (planta) enquanto uma instância é uma cópia da classe com valores reais, isto é, não é mais uma ideia, é um cachorro de verdade, como um cachorro de raça pug de sete anos.\n",
        "\n",
        "Você pode ter muitos cães para criar muitas instâncias diferentes, mas sem a classe como guia, você estaria perdido, sem saber quais informações são necessárias.\n",
        "\n",
        "Um objeto consiste em:\n",
        "\n",
        "- Estado: É representado pelos atributos de um objeto. Ele também reflete as propriedades de um objeto.\n",
        "- Behavior: Representa os métodos do objeto. Reflete a resposta de um objeto a outros objetos.\n",
        "- Identity: Identifica com um nome único o objeto e permite que interaja com outros objetos."
      ],
      "metadata": {
        "id": "6R6rV34eassN"
      }
    },
    {
      "cell_type": "code",
      "source": [
        "# Instanciando uma classe Dog \n",
        " \n",
        "class Dog:\n",
        "     \n",
        "    # Atributos da classe Dog\n",
        "    atr1 = \"mamífero\"\n",
        "    atr2 = \"cachorro\"\n",
        " \n",
        "    # método da classe Dog\n",
        "    def metodo1(self):\n",
        "      print(\"Eu sou\", self.atr1)\n",
        "      print(\"Eu sou\", self.atr2)\n",
        "    def latir(self):\n",
        "      print('Auau')   \n",
        " \n",
        "\n",
        "# instânciando o objeto\n",
        "caramelo = Dog()\n",
        " \n",
        "# Acessando os atributos e métodos da classe\n",
        "print(caramelo.atr1)\n",
        "caramelo.metodo1()\n",
        "caramelo.latir()"
      ],
      "metadata": {
        "colab": {
          "base_uri": "https://localhost:8080/"
        },
        "id": "YkeezkHBcOva",
        "outputId": "e883e417-f7c5-4120-f1f0-f6f8a55a7f77"
      },
      "execution_count": null,
      "outputs": [
        {
          "output_type": "stream",
          "name": "stdout",
          "text": [
            "mamífero\n",
            "Eu sou mamífero\n",
            "Eu sou cachorro\n",
            "Auau\n"
          ]
        }
      ]
    },
    {
      "cell_type": "markdown",
      "source": [
        "**<h1>O self</h1>**\n",
        "\n",
        "Os métodos da classes devem ter um parâmetro extra em sua definição. Não é passado nenhum valor para esse parâmetros quando chamamos a função, o próprio Python faz isso. \n",
        "\n",
        "Se o método não recebe nenhum argumento, ele ainda precisará de um argumento, o self. Isso é similar ao ponteiro do C++. Quando chamamos o método de um objeto como meuobjeto.metodo(arg1, arg2), isso é convertido automaticamente pelo python em MinhaClasse.metodo(meuobjeto, arg1, arg2) e é disso que se trata o <strong>self</strong>\n",
        " \n",
        "\n",
        "<h1>Método __init__ </h1>\n",
        "\n",
        "\n",
        "O método __init__  é similar aos construtores do C++ e Java. Eles são utilizados para inicializar o estado o objeto. Assim como os métodos, os construtores também contém uma coleção de instruções que são executadas no momento da criação do objeto. Ele é executado assim qua o objeto da classe é instanciado. Concluiindo, esse método é útil para qualquer inicialização que queira fazer com o objeto."
      ],
      "metadata": {
        "id": "dWkDSe6FfEOk"
      }
    },
    {
      "cell_type": "code",
      "source": [
        "# Exemplo de classe com init\n",
        "\n",
        "class Pessoa:\n",
        "   \n",
        "    # construtor para inicialização \n",
        "    def __init__(self, nome):\n",
        "        self.nome = nome\n",
        "   \n",
        "    # exemplo de método \n",
        "    def say_hi(self):\n",
        "        print('Meu nome é', self.nome)\n",
        "   \n",
        "pessoa1 = Pessoa('Joao')\n",
        "pessoa1.say_hi()"
      ],
      "metadata": {
        "colab": {
          "base_uri": "https://localhost:8080/"
        },
        "id": "lc1_IlQIdwN3",
        "outputId": "38086ba9-6553-40a8-c44d-9f0343b59e63"
      },
      "execution_count": null,
      "outputs": [
        {
          "output_type": "stream",
          "name": "stdout",
          "text": [
            "Meu nome é Joao\n"
          ]
        }
      ]
    },
    {
      "cell_type": "markdown",
      "source": [
        "<h1>Classes e variáveis de instância</h1>\n",
        "\n",
        "As variáveis ​​de instância são para dados, exclusivas para cada instância e as variáveis ​​de classe são para atributos e métodos compartilhados por todas as instâncias da classe. Variáveis ​​de instância são variáveis ​​cujo valor é atribuído dentro de um construtor ou método com self, enquanto variáveis ​​de classe são variáveis ​​cujo valor é atribuído na classe.\n"
      ],
      "metadata": {
        "id": "TajL1AETmSbK"
      }
    },
    {
      "cell_type": "code",
      "source": [
        "# para mostrar que as variáveis ​​com um valor\n",
        "# atribuído na declaração de classe, são variáveis ​​de classe e\n",
        "# variáveis ​​dentro de métodos e construtores são variáveis de instância.\n",
        "    \n",
        "\n",
        "class Dog:\n",
        "   \n",
        "    # exemplo de uma variável de classe\n",
        "    animal = 'cachorro'            \n",
        "      \n",
        "    def __init__(self, raca, cor):\n",
        "     \n",
        "        # variáveis de instância\n",
        "        self.raca = raca\n",
        "        self.cor = cor       \n",
        "    \n",
        "\n",
        "Billy = Dog(\"Vira-lata\", \"caramelo\")\n",
        "Buzo  = Dog(\"Bulldog\", \"preto\")\n",
        " \n",
        "print('Detalhes do Billy :')  \n",
        "print('Billy é', Billy.animal)\n",
        "print('Raça: ', Billy.raca)\n",
        "print('Cor: ', Billy.cor)\n",
        " \n",
        "print('\\nDetalhes do Buzo:')  \n",
        "print('Buzo is a', Buzo.animal)\n",
        "print('Raça: ', Buzo.raca)\n",
        "print('Cor: ', Buzo.cor)\n",
        " \n",
        "\n",
        "# variáveis da classe podem ser acessados através do nome da classe (Dog)\n",
        "print(\"\\nAcessando uma  váriavel de classe utilizando o nome da classe\")\n",
        "print(Dog.animal) "
      ],
      "metadata": {
        "id": "8ORjKeJbnBwx",
        "colab": {
          "base_uri": "https://localhost:8080/"
        },
        "outputId": "c4e26b7f-e0d5-48c2-9e3f-7341f2514df1"
      },
      "execution_count": 4,
      "outputs": [
        {
          "output_type": "stream",
          "name": "stdout",
          "text": [
            "Detalhes do Billy :\n",
            "Billy é cachorro\n",
            "Raça:  Vira-lata\n",
            "Cor:  caramelo\n",
            "\n",
            "Detalhes do Buzo:\n",
            "Buzo is a cachorro\n",
            "Raça:  Bulldog\n",
            "Cor:  preto\n",
            "\n",
            "Acessando uma  váriavel de classe utilizando o nome da classe\n",
            "cachorro\n"
          ]
        }
      ]
    },
    {
      "cell_type": "code",
      "source": [
        "# Utilizando um método normal para definir uma variável de instância\n",
        "\n",
        "class Dog:\n",
        "       \n",
        "    # variável de classe\n",
        "    animal = 'cachorro'     \n",
        "       \n",
        "    # método __init__, ou seja, os construtores\n",
        "    def __init__(self, raca):\n",
        "           \n",
        "        # variável de instância\n",
        "        self.raca = raca            \n",
        "   \n",
        "    # adiciona uma variável de instância\n",
        "    def setCor(self, cor):\n",
        "        self.cor = cor\n",
        "       \n",
        "    # recupera a variável de instância \n",
        "    def getCor(self):    \n",
        "        return self.cor   \n",
        "   \n",
        "\n",
        "Rodger = Dog(\"pug\")\n",
        "Rodger.setCor(\"brown\")\n",
        "print(Rodger.getCor()) "
      ],
      "metadata": {
        "colab": {
          "base_uri": "https://localhost:8080/"
        },
        "id": "-gpZjojAYQ_e",
        "outputId": "bc177737-ecee-4a33-8afe-039b9aa89616"
      },
      "execution_count": 7,
      "outputs": [
        {
          "output_type": "stream",
          "name": "stdout",
          "text": [
            "brown\n"
          ]
        }
      ]
    }
  ]
}