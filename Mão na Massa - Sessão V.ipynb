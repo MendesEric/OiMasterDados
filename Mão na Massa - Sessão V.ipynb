{
 "cells": [
  {
   "cell_type": "code",
   "execution_count": 1,
   "id": "4a82e027",
   "metadata": {},
   "outputs": [],
   "source": [
    "# Crie uma lista com os números 1,3,5,7,9,11,13,15,17,19 e 21. a.1) Qual o tamanho da lista? a.2) Qual o máximo\n",
    "# valor da lista? a.3) Qual a média dos elementos dessa lista? a.4) Ordene a lista em ordem decrescente. a.5)\n",
    "# Adicione o elemento 10 a essa lista."
   ]
  },
  {
   "cell_type": "code",
   "execution_count": 2,
   "id": "c64941e9",
   "metadata": {},
   "outputs": [
    {
     "name": "stdout",
     "output_type": "stream",
     "text": [
      "[1, 3, 5, 7, 9, 11, 13, 15, 17, 19, 21]\n"
     ]
    }
   ],
   "source": [
    "lista = list(range(1,22,2))\n",
    "print(lista)"
   ]
  },
  {
   "cell_type": "code",
   "execution_count": 3,
   "id": "1a56f6b4",
   "metadata": {},
   "outputs": [
    {
     "data": {
      "text/plain": [
       "11"
      ]
     },
     "execution_count": 3,
     "metadata": {},
     "output_type": "execute_result"
    }
   ],
   "source": [
    "len(lista)"
   ]
  },
  {
   "cell_type": "code",
   "execution_count": 4,
   "id": "c403572c",
   "metadata": {},
   "outputs": [
    {
     "data": {
      "text/plain": [
       "21"
      ]
     },
     "execution_count": 4,
     "metadata": {},
     "output_type": "execute_result"
    }
   ],
   "source": [
    "max(lista)"
   ]
  },
  {
   "cell_type": "code",
   "execution_count": 5,
   "id": "f33c0fad",
   "metadata": {},
   "outputs": [
    {
     "name": "stdout",
     "output_type": "stream",
     "text": [
      "11.0\n"
     ]
    }
   ],
   "source": [
    "media = sum(lista)/len(lista)\n",
    "print(media)"
   ]
  },
  {
   "cell_type": "code",
   "execution_count": 6,
   "id": "b618d1e0",
   "metadata": {},
   "outputs": [],
   "source": [
    "lista.sort(reverse = True)"
   ]
  },
  {
   "cell_type": "code",
   "execution_count": 7,
   "id": "d823fb1e",
   "metadata": {},
   "outputs": [
    {
     "data": {
      "text/plain": [
       "[21, 19, 17, 15, 13, 11, 9, 7, 5, 3, 1]"
      ]
     },
     "execution_count": 7,
     "metadata": {},
     "output_type": "execute_result"
    }
   ],
   "source": [
    "lista"
   ]
  },
  {
   "cell_type": "code",
   "execution_count": 8,
   "id": "e96a0ca1",
   "metadata": {},
   "outputs": [
    {
     "name": "stdout",
     "output_type": "stream",
     "text": [
      "[21, 19, 17, 15, 13, 11, 9, 7, 5, 3, 1, 10]\n"
     ]
    }
   ],
   "source": [
    "lista.append(10)\n",
    "print(lista)"
   ]
  },
  {
   "cell_type": "code",
   "execution_count": null,
   "id": "e69ddc53",
   "metadata": {},
   "outputs": [],
   "source": [
    "# Considere os conjuntos A= {100,200,300,500,600,800), B={150,200,250,350,400,500) e C={300,200}. b.1) Qual a\n",
    "# soma dos valores do conjunto D que é a intersecção de A, B e C? b.2) Qual a média da união dos elementos\n",
    "# desses 3 conjuntos?\n"
   ]
  },
  {
   "cell_type": "code",
   "execution_count": 11,
   "id": "bcfdaae1",
   "metadata": {},
   "outputs": [],
   "source": [
    "A = {100,200,300,500,600,800}\n",
    "B = {150,200,250,350,400,500}\n",
    "C = {300,200}"
   ]
  },
  {
   "cell_type": "code",
   "execution_count": 15,
   "id": "c19ef77d",
   "metadata": {},
   "outputs": [
    {
     "data": {
      "text/plain": [
       "{200}"
      ]
     },
     "execution_count": 15,
     "metadata": {},
     "output_type": "execute_result"
    }
   ],
   "source": [
    "A.intersection(B).intersection(C)"
   ]
  },
  {
   "cell_type": "code",
   "execution_count": 17,
   "id": "220207fa",
   "metadata": {},
   "outputs": [
    {
     "data": {
      "text/plain": [
       "365.0"
      ]
     },
     "execution_count": 17,
     "metadata": {},
     "output_type": "execute_result"
    }
   ],
   "source": [
    "X = A.union(B).union(C)\n",
    "sum(X)/len(X)"
   ]
  },
  {
   "cell_type": "code",
   "execution_count": 18,
   "id": "6ffe0efd",
   "metadata": {},
   "outputs": [],
   "source": [
    "# Crie um dicionário com chaves & valores associados à população dos estados do Sul do Brasil. Qual a média dos\n",
    "# valores desse dicionário?"
   ]
  },
  {
   "cell_type": "code",
   "execution_count": 39,
   "id": "223c2b56",
   "metadata": {},
   "outputs": [
    {
     "name": "stdout",
     "output_type": "stream",
     "text": [
      "A media da população do RS é igual a:  9.84 milhões\n"
     ]
    }
   ],
   "source": [
    "pop = {'RS': 11.29, 'SC': 7.165, 'PR': 11.08}\n",
    "soma = 0\n",
    "for chave, valor in pop.items():\n",
    "    soma += valor\n",
    "   \n",
    "media = (soma) / (len(pop.keys()))\n",
    "print('A media da população do RS é igual a: ', round(media,2), 'milhões')    \n",
    "\n",
    "    "
   ]
  }
 ],
 "metadata": {
  "kernelspec": {
   "display_name": "Python 3 (ipykernel)",
   "language": "python",
   "name": "python3"
  },
  "language_info": {
   "codemirror_mode": {
    "name": "ipython",
    "version": 3
   },
   "file_extension": ".py",
   "mimetype": "text/x-python",
   "name": "python",
   "nbconvert_exporter": "python",
   "pygments_lexer": "ipython3",
   "version": "3.8.8"
  }
 },
 "nbformat": 4,
 "nbformat_minor": 5
}
