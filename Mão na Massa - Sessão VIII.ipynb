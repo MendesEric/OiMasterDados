{
 "cells": [
  {
   "cell_type": "code",
   "execution_count": 1,
   "id": "f655c6a8",
   "metadata": {},
   "outputs": [],
   "source": [
    "# Explore um pouco o módulo “math”. Que funções ou constantes podem ser interessantes?"
   ]
  },
  {
   "cell_type": "code",
   "execution_count": 3,
   "id": "70814d4f",
   "metadata": {},
   "outputs": [],
   "source": [
    "import math"
   ]
  },
  {
   "cell_type": "code",
   "execution_count": 6,
   "id": "debc47a5",
   "metadata": {},
   "outputs": [
    {
     "data": {
      "text/plain": [
       "3.141592653589793"
      ]
     },
     "execution_count": 6,
     "metadata": {},
     "output_type": "execute_result"
    }
   ],
   "source": [
    "# valor de pi\n",
    "math.pi"
   ]
  },
  {
   "cell_type": "code",
   "execution_count": 8,
   "id": "684b630f",
   "metadata": {},
   "outputs": [
    {
     "data": {
      "text/plain": [
       "3.0"
      ]
     },
     "execution_count": 8,
     "metadata": {},
     "output_type": "execute_result"
    }
   ],
   "source": [
    "# raiz quadrada\n",
    "math.sqrt(9)"
   ]
  },
  {
   "cell_type": "code",
   "execution_count": 10,
   "id": "8c25d8c7",
   "metadata": {},
   "outputs": [
    {
     "data": {
      "text/plain": [
       "120"
      ]
     },
     "execution_count": 10,
     "metadata": {},
     "output_type": "execute_result"
    }
   ],
   "source": [
    "# fatorial\n",
    "math.factorial(5)"
   ]
  },
  {
   "cell_type": "code",
   "execution_count": 11,
   "id": "56941fa7",
   "metadata": {},
   "outputs": [],
   "source": [
    "# Crie um array com a seguinte característica: [[3 4 5] [5 6 4] [5 3 2]]. Calcule a dimensão dessa matriz. Qual o\n",
    "# determinante e a inversa dessa matriz? Extraia estatísticas descritivas dessa matriz (mínimo, média, máximo e\n",
    "# desvio padrão)."
   ]
  },
  {
   "cell_type": "code",
   "execution_count": 12,
   "id": "403591d8",
   "metadata": {},
   "outputs": [],
   "source": [
    "import numpy as np"
   ]
  },
  {
   "cell_type": "code",
   "execution_count": 18,
   "id": "d7b4e757",
   "metadata": {},
   "outputs": [],
   "source": [
    "arr = np.array([(3,4,5),(5,6,4), (5,3,2)])"
   ]
  },
  {
   "cell_type": "code",
   "execution_count": 19,
   "id": "a7d5d127",
   "metadata": {},
   "outputs": [
    {
     "data": {
      "text/plain": [
       "(3, 3)"
      ]
     },
     "execution_count": 19,
     "metadata": {},
     "output_type": "execute_result"
    }
   ],
   "source": [
    "arr.shape"
   ]
  },
  {
   "cell_type": "code",
   "execution_count": 23,
   "id": "e8614077",
   "metadata": {},
   "outputs": [
    {
     "data": {
      "text/plain": [
       "-35.00000000000001"
      ]
     },
     "execution_count": 23,
     "metadata": {},
     "output_type": "execute_result"
    }
   ],
   "source": [
    "det = np.linalg.det(arr)\n",
    "det"
   ]
  },
  {
   "cell_type": "code",
   "execution_count": 25,
   "id": "79c369ce",
   "metadata": {},
   "outputs": [
    {
     "data": {
      "text/plain": [
       "array([[ 0.        , -0.2       ,  0.4       ],\n",
       "       [-0.28571429,  0.54285714, -0.37142857],\n",
       "       [ 0.42857143, -0.31428571,  0.05714286]])"
      ]
     },
     "execution_count": 25,
     "metadata": {},
     "output_type": "execute_result"
    }
   ],
   "source": [
    "matriz_inversa = np.linalg.inv(arr)\n",
    "matriz_inversa"
   ]
  },
  {
   "cell_type": "code",
   "execution_count": 28,
   "id": "6c05e4a9",
   "metadata": {},
   "outputs": [
    {
     "name": "stdout",
     "output_type": "stream",
     "text": [
      "2\n",
      "4.111111111111111\n",
      "6\n",
      "1.1967032904743342\n"
     ]
    }
   ],
   "source": [
    "print(np.min(arr))\n",
    "print(np.mean(arr))\n",
    "print(np.max(arr))\n",
    "print(np.std(arr))"
   ]
  },
  {
   "cell_type": "code",
   "execution_count": 29,
   "id": "26350a61",
   "metadata": {},
   "outputs": [],
   "source": [
    "# Gere 2 matrizes com numeros inteiros aleatórios e promova a multiplicação entre elas. Houve algum erro? Qual\n",
    "# a condição para que seja possível a multiplicação de 2 matrizes? Qual deve ser o formato da matriz resultante?"
   ]
  },
  {
   "cell_type": "code",
   "execution_count": 34,
   "id": "41d4bc0d",
   "metadata": {},
   "outputs": [
    {
     "name": "stdout",
     "output_type": "stream",
     "text": [
      "[[85 38 46]\n",
      " [98 94 74]\n",
      " [94 80 11]]\n",
      "[[ 2  6 -4  1 -2 -5]\n",
      " [-4 14  0 18 16  7]\n",
      " [ 8 -4 -1  1 -5  1]]\n"
     ]
    }
   ],
   "source": [
    "A = np.random.randint(1,100,[3,3])\n",
    "print(A)\n",
    "B = np.random.randint(-5,20,[3,6])\n",
    "print(B)"
   ]
  },
  {
   "cell_type": "code",
   "execution_count": 36,
   "id": "7ef27527",
   "metadata": {},
   "outputs": [
    {
     "data": {
      "text/plain": [
       "array([[ 386,  858, -386,  815,  208, -113],\n",
       "       [ 412, 1608, -466, 1864,  938,  242],\n",
       "       [ -44, 1640, -387, 1545, 1037,  101]])"
      ]
     },
     "execution_count": 36,
     "metadata": {},
     "output_type": "execute_result"
    }
   ],
   "source": [
    "A.dot(B)"
   ]
  },
  {
   "cell_type": "code",
   "execution_count": 37,
   "id": "91c7facf",
   "metadata": {},
   "outputs": [],
   "source": [
    "# É necessário que o número de colunas da primeira matriz seja igual ao numero de linhas da segunda matriz, e a matriz\n",
    "# resultante tem o número de linhas da primeira matriz e o número de colunas da segunda matriz"
   ]
  },
  {
   "cell_type": "code",
   "execution_count": 38,
   "id": "88384b18",
   "metadata": {},
   "outputs": [],
   "source": [
    "# Gere um array que seja uma sequência de números de 0 a 10, com razão de 1.2."
   ]
  },
  {
   "cell_type": "code",
   "execution_count": 40,
   "id": "5f2a1c02",
   "metadata": {},
   "outputs": [
    {
     "name": "stdout",
     "output_type": "stream",
     "text": [
      "[0.  1.2 2.4 3.6 4.8 6.  7.2 8.4 9.6]\n"
     ]
    }
   ],
   "source": [
    "arr2 = np.arange(0,10,1.2)\n",
    "print(arr2)"
   ]
  },
  {
   "cell_type": "code",
   "execution_count": 41,
   "id": "3d1d7cc1",
   "metadata": {},
   "outputs": [],
   "source": [
    "# Gere um array que seja uma sequência de números de 100 a 10, com razão de -15."
   ]
  },
  {
   "cell_type": "code",
   "execution_count": 43,
   "id": "08d41094",
   "metadata": {},
   "outputs": [
    {
     "name": "stdout",
     "output_type": "stream",
     "text": [
      "[100  85  70  55  40  25]\n"
     ]
    }
   ],
   "source": [
    "arr3 = np.arange(100,10,-15)\n",
    "print(arr3)"
   ]
  },
  {
   "cell_type": "code",
   "execution_count": 44,
   "id": "3497e59e",
   "metadata": {},
   "outputs": [],
   "source": [
    "# Gere uma matriz de 6x6, sendo cada linha uma sugestão aleatória de dezenas para um jogo da megasena."
   ]
  },
  {
   "cell_type": "code",
   "execution_count": 70,
   "id": "aa3bc837",
   "metadata": {},
   "outputs": [
    {
     "name": "stdout",
     "output_type": "stream",
     "text": [
      "[[47 12 36 53 15 57]\n",
      " [60  2 24  6  9 49]\n",
      " [14 18 45 60 18 26]\n",
      " [31 13 33 48 40 33]\n",
      " [12 16 26 56 20 24]\n",
      " [ 9 32 41 21 39 18]]\n"
     ]
    }
   ],
   "source": [
    "matriz_megasena = np.random.randint(1,61,[6,6])\n",
    "print(matriz_megasena)"
   ]
  },
  {
   "cell_type": "code",
   "execution_count": null,
   "id": "e8be77cf",
   "metadata": {},
   "outputs": [],
   "source": []
  }
 ],
 "metadata": {
  "kernelspec": {
   "display_name": "Python 3 (ipykernel)",
   "language": "python",
   "name": "python3"
  },
  "language_info": {
   "codemirror_mode": {
    "name": "ipython",
    "version": 3
   },
   "file_extension": ".py",
   "mimetype": "text/x-python",
   "name": "python",
   "nbconvert_exporter": "python",
   "pygments_lexer": "ipython3",
   "version": "3.8.8"
  }
 },
 "nbformat": 4,
 "nbformat_minor": 5
}
