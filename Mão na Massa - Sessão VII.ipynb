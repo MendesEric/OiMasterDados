{
 "cells": [
  {
   "cell_type": "code",
   "execution_count": 14,
   "id": "8b7499c5",
   "metadata": {},
   "outputs": [],
   "source": [
    "# transformar semanas em dias\n",
    "\n",
    "def ParaDias (semanas):\n",
    "    return semanas*7\n",
    "\n"
   ]
  },
  {
   "cell_type": "code",
   "execution_count": 17,
   "id": "cf9ac59f",
   "metadata": {},
   "outputs": [
    {
     "name": "stdout",
     "output_type": "stream",
     "text": [
      "Digite o número de semanas: 2\n",
      "O número de dias em 2 semanas é igual a : 14\n"
     ]
    }
   ],
   "source": [
    "semanas = int(input('Digite o número de semanas: '))\n",
    "print('O número de dias em', semanas, 'semanas é igual a :', ParaDias(semanas))"
   ]
  },
  {
   "cell_type": "code",
   "execution_count": 20,
   "id": "55e58de0",
   "metadata": {},
   "outputs": [
    {
     "name": "stdout",
     "output_type": "stream",
     "text": [
      "Digite as horas 2\n",
      "Quantidade de segundos: 7200\n"
     ]
    }
   ],
   "source": [
    "# quantidade de segundos em x horas\n",
    "\n",
    "segundos = lambda a: a*60*60\n",
    "x = int(input('Digite as horas '))\n",
    "print('Quantidade de segundos:', segundos(x))"
   ]
  },
  {
   "cell_type": "code",
   "execution_count": 25,
   "id": "e733765d",
   "metadata": {},
   "outputs": [
    {
     "name": "stdout",
     "output_type": "stream",
     "text": [
      "<class 'map'>\n",
      "[1630.0, 2140.0, 2650.0, 3160.0, 3669.9999999999995]\n"
     ]
    }
   ],
   "source": [
    "# dada uma lista, utilizar o map para realizar operações em cada elemento\n",
    "\n",
    "lista = list(range(300,800,100))\n",
    "x = map(lambda x: x*5.1+100, lista)\n",
    "print(type(x))\n",
    "print(list(x))"
   ]
  }
 ],
 "metadata": {
  "kernelspec": {
   "display_name": "Python 3 (ipykernel)",
   "language": "python",
   "name": "python3"
  },
  "language_info": {
   "codemirror_mode": {
    "name": "ipython",
    "version": 3
   },
   "file_extension": ".py",
   "mimetype": "text/x-python",
   "name": "python",
   "nbconvert_exporter": "python",
   "pygments_lexer": "ipython3",
   "version": "3.8.8"
  }
 },
 "nbformat": 4,
 "nbformat_minor": 5
}
