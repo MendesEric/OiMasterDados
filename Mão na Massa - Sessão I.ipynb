{
 "cells": [
  {
   "cell_type": "markdown",
   "id": "475a288f",
   "metadata": {},
   "source": [
    "### <center> Meus Primeiros Cálculos </center>"
   ]
  },
  {
   "cell_type": "code",
   "execution_count": 1,
   "id": "d6c4f813",
   "metadata": {},
   "outputs": [
    {
     "data": {
      "text/plain": [
       "9"
      ]
     },
     "execution_count": 1,
     "metadata": {},
     "output_type": "execute_result"
    }
   ],
   "source": [
    "#primeiro cálculo \n",
    "3*(2+1)"
   ]
  },
  {
   "cell_type": "code",
   "execution_count": 2,
   "id": "0c385103",
   "metadata": {},
   "outputs": [
    {
     "data": {
      "text/plain": [
       "216"
      ]
     },
     "execution_count": 2,
     "metadata": {},
     "output_type": "execute_result"
    }
   ],
   "source": [
    "#segundo cálculo\n",
    "6**3"
   ]
  },
  {
   "cell_type": "code",
   "execution_count": 3,
   "id": "2ac7c612",
   "metadata": {},
   "outputs": [
    {
     "data": {
      "text/plain": [
       "1.3333333333333333"
      ]
     },
     "execution_count": 3,
     "metadata": {},
     "output_type": "execute_result"
    }
   ],
   "source": [
    "#terceiro cálculo\n",
    "4/3"
   ]
  },
  {
   "cell_type": "code",
   "execution_count": 4,
   "id": "99194783",
   "metadata": {},
   "outputs": [
    {
     "data": {
      "text/plain": [
       "90.0"
      ]
     },
     "execution_count": 4,
     "metadata": {},
     "output_type": "execute_result"
    }
   ],
   "source": [
    "#quarto cálculo\n",
    "9/0.1"
   ]
  },
  {
   "cell_type": "code",
   "execution_count": 5,
   "id": "06470e85",
   "metadata": {},
   "outputs": [
    {
     "data": {
      "text/plain": [
       "2"
      ]
     },
     "execution_count": 5,
     "metadata": {},
     "output_type": "execute_result"
    }
   ],
   "source": [
    "#quinto cálculo\n",
    "500-498"
   ]
  },
  {
   "cell_type": "code",
   "execution_count": 12,
   "id": "adfd886e",
   "metadata": {},
   "outputs": [
    {
     "name": "stdout",
     "output_type": "stream",
     "text": [
      "28\n"
     ]
    },
    {
     "data": {
      "text/plain": [
       "28"
      ]
     },
     "execution_count": 12,
     "metadata": {},
     "output_type": "execute_result"
    }
   ],
   "source": [
    "#Resto da divisão entre 6553 e 29\n",
    "x = 6553//29\n",
    "print(6553 - x * 29)\n",
    "#ou podemos utilizar direto o operador %\n",
    "6553%29"
   ]
  },
  {
   "cell_type": "code",
   "execution_count": 7,
   "id": "3246e448",
   "metadata": {},
   "outputs": [
    {
     "data": {
      "text/plain": [
       "32768"
      ]
     },
     "execution_count": 7,
     "metadata": {},
     "output_type": "execute_result"
    }
   ],
   "source": [
    "#potência 8 e 5\n",
    "pow(8,5)"
   ]
  }
 ],
 "metadata": {
  "kernelspec": {
   "display_name": "Python 3 (ipykernel)",
   "language": "python",
   "name": "python3"
  },
  "language_info": {
   "codemirror_mode": {
    "name": "ipython",
    "version": 3
   },
   "file_extension": ".py",
   "mimetype": "text/x-python",
   "name": "python",
   "nbconvert_exporter": "python",
   "pygments_lexer": "ipython3",
   "version": "3.8.8"
  }
 },
 "nbformat": 4,
 "nbformat_minor": 5
}
