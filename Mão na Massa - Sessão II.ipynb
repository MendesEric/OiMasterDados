{
 "cells": [
  {
   "cell_type": "code",
   "execution_count": 5,
   "id": "4c63c866",
   "metadata": {},
   "outputs": [
    {
     "name": "stdout",
     "output_type": "stream",
     "text": [
      "7\n"
     ]
    },
    {
     "data": {
      "text/plain": [
       "int"
      ]
     },
     "execution_count": 5,
     "metadata": {},
     "output_type": "execute_result"
    }
   ],
   "source": [
    "# váriavel int\n",
    "\n",
    "x = 7\n",
    "print(x)\n",
    "type(x)"
   ]
  },
  {
   "cell_type": "code",
   "execution_count": 4,
   "id": "05bb6065",
   "metadata": {},
   "outputs": [
    {
     "name": "stdout",
     "output_type": "stream",
     "text": [
      "Eric\n"
     ]
    },
    {
     "data": {
      "text/plain": [
       "str"
      ]
     },
     "execution_count": 4,
     "metadata": {},
     "output_type": "execute_result"
    }
   ],
   "source": [
    "#váriavel string\n",
    "\n",
    "x = 'Eric'\n",
    "print(x)\n",
    "type(x)"
   ]
  },
  {
   "cell_type": "code",
   "execution_count": 17,
   "id": "c1b4ab23",
   "metadata": {},
   "outputs": [
    {
     "name": "stdout",
     "output_type": "stream",
     "text": [
      "Sem parenteses: 27 \n",
      "Com parenteses: 729\n"
     ]
    }
   ],
   "source": [
    "# Sequência de operações\n",
    "\n",
    "print('Sem parenteses:', 3**2*3 , '\\nCom parenteses:', 3**(2*3))"
   ]
  },
  {
   "cell_type": "code",
   "execution_count": 18,
   "id": "98fbbc48",
   "metadata": {},
   "outputs": [
    {
     "data": {
      "text/plain": [
       "1.6666666666666667"
      ]
     },
     "execution_count": 18,
     "metadata": {},
     "output_type": "execute_result"
    }
   ],
   "source": [
    "# Sequência de operações\n",
    "\n",
    "5/9**0.5"
   ]
  },
  {
   "cell_type": "code",
   "execution_count": 20,
   "id": "e43e392b",
   "metadata": {},
   "outputs": [
    {
     "data": {
      "text/plain": [
       "694"
      ]
     },
     "execution_count": 20,
     "metadata": {},
     "output_type": "execute_result"
    }
   ],
   "source": [
    "# Valor inteiro de uma divisão\n",
    "\n",
    "531313//765"
   ]
  },
  {
   "cell_type": "code",
   "execution_count": 27,
   "id": "69c1cbf5",
   "metadata": {},
   "outputs": [
    {
     "name": "stdout",
     "output_type": "stream",
     "text": [
      "Insira o raio para cálculo da área da circunferência: 2.2\n",
      "A área do círculo é igual a: 15.205308184000003\n"
     ]
    }
   ],
   "source": [
    "# Cálculo da área de uma circunferência\n",
    "R = input('Insira o raio para cálculo da área da circunferência: ')\n",
    "area = float(R) **2* 3.1415926\n",
    "print('A área do círculo é igual a: {area}'.format(area=area))"
   ]
  }
 ],
 "metadata": {
  "kernelspec": {
   "display_name": "Python 3 (ipykernel)",
   "language": "python",
   "name": "python3"
  },
  "language_info": {
   "codemirror_mode": {
    "name": "ipython",
    "version": 3
   },
   "file_extension": ".py",
   "mimetype": "text/x-python",
   "name": "python",
   "nbconvert_exporter": "python",
   "pygments_lexer": "ipython3",
   "version": "3.8.8"
  }
 },
 "nbformat": 4,
 "nbformat_minor": 5
}
