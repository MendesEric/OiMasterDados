{
 "cells": [
  {
   "cell_type": "code",
   "execution_count": 8,
   "id": "7331f215",
   "metadata": {},
   "outputs": [
    {
     "name": "stdout",
     "output_type": "stream",
     "text": [
      "Médio!\n"
     ]
    }
   ],
   "source": [
    "# Uso de If e Elif\n",
    "\n",
    "Valor = 300\n",
    "if (Valor >= 500):\n",
    "    print('Grande!')\n",
    "elif (Valor < 500 and Valor >= 300):\n",
    "    print('Médio!')\n",
    "else:\n",
    "    print('Pequeno!')"
   ]
  },
  {
   "cell_type": "code",
   "execution_count": 10,
   "id": "69522615",
   "metadata": {},
   "outputs": [
    {
     "name": "stdout",
     "output_type": "stream",
     "text": [
      "Valor negativo!\n"
     ]
    }
   ],
   "source": [
    "Valor = -50\n",
    "if (Valor >= 500):\n",
    "    print('Grande!')\n",
    "elif (Valor < 500 and Valor >= 300):\n",
    "    print('Médio!')\n",
    "elif (Valor >= 0 and Valor < 300):\n",
    "    print('Pequeno!')\n",
    "else:\n",
    "    print('Valor negativo!')"
   ]
  },
  {
   "cell_type": "code",
   "execution_count": 15,
   "id": "b9141cf0",
   "metadata": {},
   "outputs": [
    {
     "name": "stdout",
     "output_type": "stream",
     "text": [
      "Carro.\n"
     ]
    }
   ],
   "source": [
    "#Classificar em “Fusca”, “Maverick”, “Toro”, “CG 160 Titan”, “Abacaxi”, “Biz 125”, “Cerato”, “Kawasaki Z 250”.\n",
    "\n",
    "Coisa = 'Maverick'\n",
    "\n",
    "if (Coisa in ('Fusca', 'Maverick', 'Toro', 'Cerato')):\n",
    "    print ('Carro.')\n",
    "elif (Coisa in ('CG 160 Titan', 'Biz 125', 'Kawasaki Z 250')):\n",
    "    print ('Moto.')\n",
    "else:\n",
    "    print('Invalido!')"
   ]
  }
 ],
 "metadata": {
  "kernelspec": {
   "display_name": "Python 3 (ipykernel)",
   "language": "python",
   "name": "python3"
  },
  "language_info": {
   "codemirror_mode": {
    "name": "ipython",
    "version": 3
   },
   "file_extension": ".py",
   "mimetype": "text/x-python",
   "name": "python",
   "nbconvert_exporter": "python",
   "pygments_lexer": "ipython3",
   "version": "3.8.8"
  }
 },
 "nbformat": 4,
 "nbformat_minor": 5
}
